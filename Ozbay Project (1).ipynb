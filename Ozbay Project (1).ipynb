{
 "cells": [
  {
   "cell_type": "code",
   "execution_count": 262,
   "metadata": {},
   "outputs": [],
   "source": [
    "from collections import OrderedDict    # For recording the model specification \n",
    "\n",
    "import pandas as pd                    # For file input/output\n",
    "import numpy as np                     # For vectorized math operations\n",
    "\n",
    "import pylogit as pl                   # For MNL model estimation\n",
    "                                       # To convert from wide to long format\n",
    "import numpy.matlib"
   ]
  },
  {
   "cell_type": "markdown",
   "metadata": {},
   "source": [
    "# 1. Read and Reshape Data"
   ]
  },
  {
   "cell_type": "code",
   "execution_count": 263,
   "metadata": {},
   "outputs": [
    {
     "data": {
      "text/html": [
       "<div>\n",
       "<style scoped>\n",
       "    .dataframe tbody tr th:only-of-type {\n",
       "        vertical-align: middle;\n",
       "    }\n",
       "\n",
       "    .dataframe tbody tr th {\n",
       "        vertical-align: top;\n",
       "    }\n",
       "\n",
       "    .dataframe thead th {\n",
       "        text-align: right;\n",
       "    }\n",
       "</style>\n",
       "<table border=\"1\" class=\"dataframe\">\n",
       "  <thead>\n",
       "    <tr style=\"text-align: right;\">\n",
       "      <th></th>\n",
       "      <th>MODE</th>\n",
       "      <th>FEE</th>\n",
       "      <th>COST</th>\n",
       "      <th>TTME</th>\n",
       "      <th>AGE</th>\n",
       "      <th>GEN</th>\n",
       "      <th>INC</th>\n",
       "      <th>Group</th>\n",
       "      <th>ALT</th>\n",
       "    </tr>\n",
       "  </thead>\n",
       "  <tbody>\n",
       "    <tr>\n",
       "      <th>0</th>\n",
       "      <td>1</td>\n",
       "      <td>5.5</td>\n",
       "      <td>17.20460</td>\n",
       "      <td>56.50</td>\n",
       "      <td>21</td>\n",
       "      <td>1</td>\n",
       "      <td>193631.3389</td>\n",
       "      <td>1</td>\n",
       "      <td>1</td>\n",
       "    </tr>\n",
       "    <tr>\n",
       "      <th>1</th>\n",
       "      <td>0</td>\n",
       "      <td>0.0</td>\n",
       "      <td>10.25000</td>\n",
       "      <td>86.30</td>\n",
       "      <td>21</td>\n",
       "      <td>1</td>\n",
       "      <td>193631.3389</td>\n",
       "      <td>1</td>\n",
       "      <td>2</td>\n",
       "    </tr>\n",
       "    <tr>\n",
       "      <th>2</th>\n",
       "      <td>1</td>\n",
       "      <td>5.5</td>\n",
       "      <td>15.16557</td>\n",
       "      <td>49.06</td>\n",
       "      <td>22</td>\n",
       "      <td>1</td>\n",
       "      <td>70019.2248</td>\n",
       "      <td>2</td>\n",
       "      <td>1</td>\n",
       "    </tr>\n",
       "    <tr>\n",
       "      <th>3</th>\n",
       "      <td>0</td>\n",
       "      <td>0.0</td>\n",
       "      <td>2.75000</td>\n",
       "      <td>50.67</td>\n",
       "      <td>22</td>\n",
       "      <td>1</td>\n",
       "      <td>70019.2248</td>\n",
       "      <td>2</td>\n",
       "      <td>2</td>\n",
       "    </tr>\n",
       "    <tr>\n",
       "      <th>4</th>\n",
       "      <td>1</td>\n",
       "      <td>5.5</td>\n",
       "      <td>14.80658</td>\n",
       "      <td>38.27</td>\n",
       "      <td>33</td>\n",
       "      <td>1</td>\n",
       "      <td>125358.6178</td>\n",
       "      <td>3</td>\n",
       "      <td>1</td>\n",
       "    </tr>\n",
       "    <tr>\n",
       "      <th>5</th>\n",
       "      <td>0</td>\n",
       "      <td>0.0</td>\n",
       "      <td>2.75000</td>\n",
       "      <td>39.72</td>\n",
       "      <td>33</td>\n",
       "      <td>1</td>\n",
       "      <td>125358.6178</td>\n",
       "      <td>3</td>\n",
       "      <td>2</td>\n",
       "    </tr>\n",
       "    <tr>\n",
       "      <th>6</th>\n",
       "      <td>1</td>\n",
       "      <td>5.5</td>\n",
       "      <td>16.76483</td>\n",
       "      <td>63.42</td>\n",
       "      <td>48</td>\n",
       "      <td>0</td>\n",
       "      <td>130802.3121</td>\n",
       "      <td>4</td>\n",
       "      <td>1</td>\n",
       "    </tr>\n",
       "    <tr>\n",
       "      <th>7</th>\n",
       "      <td>0</td>\n",
       "      <td>0.0</td>\n",
       "      <td>10.25000</td>\n",
       "      <td>78.32</td>\n",
       "      <td>48</td>\n",
       "      <td>0</td>\n",
       "      <td>130802.3121</td>\n",
       "      <td>4</td>\n",
       "      <td>2</td>\n",
       "    </tr>\n",
       "  </tbody>\n",
       "</table>\n",
       "</div>"
      ],
      "text/plain": [
       "   MODE  FEE      COST   TTME  AGE  GEN          INC  Group  ALT\n",
       "0     1  5.5  17.20460  56.50   21    1  193631.3389      1    1\n",
       "1     0  0.0  10.25000  86.30   21    1  193631.3389      1    2\n",
       "2     1  5.5  15.16557  49.06   22    1   70019.2248      2    1\n",
       "3     0  0.0   2.75000  50.67   22    1   70019.2248      2    2\n",
       "4     1  5.5  14.80658  38.27   33    1  125358.6178      3    1\n",
       "5     0  0.0   2.75000  39.72   33    1  125358.6178      3    2\n",
       "6     1  5.5  16.76483  63.42   48    0  130802.3121      4    1\n",
       "7     0  0.0  10.25000  78.32   48    0  130802.3121      4    2"
      ]
     },
     "execution_count": 263,
     "metadata": {},
     "output_type": "execute_result"
    }
   ],
   "source": [
    "data = pd.read_csv(\"TrafficModeData12.csv\")\n",
    "data[\"Group\"] = np.matlib.repmat(np.array([x+1 for x in range(46)]).reshape(46,1),1,2).reshape(92,1)\n",
    "data[\"ALT\"] = np.matlib.repmat(np.array([1,2]).reshape(2,1),46,1)\n",
    "data.head(8)\n",
    "# Variables:\n",
    "# ASC(alternative-specific coefficients)\n",
    "# TTME(Travel Time）；\n",
    "# FEE(Congestion fee cost）；\n",
    "# COST(For driving, it includes gas fee, parking fee. For not driving, it includes public transportation fee)\n",
    "# AGE（Age）；\n",
    "# INC(Individual Income)\n",
    "# GEN(Gender)"
   ]
  },
  {
   "cell_type": "code",
   "execution_count": 264,
   "metadata": {},
   "outputs": [
    {
     "data": {
      "text/plain": [
       "Index([u'MODE', u'FEE', u'COST', u'TTME', u'AGE', u'GEN', u'INC', u'Group',\n",
       "       u'ALT'],\n",
       "      dtype='object')"
      ]
     },
     "execution_count": 264,
     "metadata": {},
     "output_type": "execute_result"
    }
   ],
   "source": [
    "data.columns"
   ]
  },
  {
   "cell_type": "code",
   "execution_count": 265,
   "metadata": {},
   "outputs": [],
   "source": [
    "# data['FEE'] = data['FEE'].astype(dtype=int) "
   ]
  },
  {
   "cell_type": "code",
   "execution_count": 266,
   "metadata": {},
   "outputs": [],
   "source": [
    "# data['AGE'] = data['AGE'].astype(dtype=int) \n",
    "# data['INC'] = data['INC'].astype(dtype=int) "
   ]
  },
  {
   "cell_type": "code",
   "execution_count": 267,
   "metadata": {},
   "outputs": [],
   "source": [
    "# data['GEN'] = data['GEN'].astype(dtype=int) "
   ]
  },
  {
   "cell_type": "code",
   "execution_count": 268,
   "metadata": {},
   "outputs": [],
   "source": [
    "# data.drop([u'GEN'], axis=1, inplace=True)"
   ]
  },
  {
   "cell_type": "markdown",
   "metadata": {},
   "source": [
    "###  Variables:\n",
    "#### TTME(Travel Time）； FEE(Congestion fee cost）;   AGE（Age）； INC(Individual Income);  GEN(Gender)"
   ]
  },
  {
   "cell_type": "markdown",
   "metadata": {},
   "source": [
    "### Utility Functions：\n",
    "#### V drive = βTTME1 * TTMEdrive + βFEE1 * FEEdrive + βAGE1 * AGEdrive + βINC1 * INCdrive + βGEN1 * GENdrive\n",
    "#### V not-drive = βTTME2 * TTMEnotdrive + βFEE2 * FEEnotdrive + βAGE2 * AGEnotdrive + βGEN2* GENnotdrive"
   ]
  },
  {
   "cell_type": "markdown",
   "metadata": {},
   "source": [
    "# 2. Set Variables"
   ]
  },
  {
   "cell_type": "code",
   "execution_count": 269,
   "metadata": {},
   "outputs": [],
   "source": [
    "spec = OrderedDict()\n",
    "variable_names = OrderedDict()\n",
    "# Vars = [\"TTME\", \"FEE\", \"COST\", \"INC\", \"GEN\"]\n",
    "Vars = [\"TTME\", \"FEE\", \"COST\"]\n",
    "# Vars = [\"TTME\",  \"AGE\", \"INC\", \"FEE\"]\n",
    "# Vars = [\"TTME\", \"FEE\", \"AGE\", \"GEN\"]\n",
    "# Vars = [\"TTME\", \"AGE\", \"GEN\"]\n",
    "# spec[\"intercept\"] = [1, 2]\n",
    "# variable_names[\"intercept\"] = [\"ASC Drive\", \"ASC Not Drive\"]\n",
    "for var in Vars:\n",
    "   spec[var] = [[1,2]]\n",
    "   variable_names[var] = [var]\n",
    "# spec[\"intercept\"] = [1, 2]\n",
    "# variable_names[\"intercept\"] = [\"ASC Drive\", \"ASC Not Drive\"]\n",
    "spec[\"TTME\"] = [[1],[2]]\n",
    "variable_names[\"TTME\"] = [\"TTME for Drive\", \"TTME for Not Drive\"]\n",
    "spec[\"FEE\"] = [1]\n",
    "variable_names[\"FEE\"] = [\"FEEdrive\"]\n",
    "spec[\"COST\"] = [[1],[2]]\n",
    "variable_names[\"COST\"] = [\"COST for Drive\", \"COST for Not Drive\"]\n",
    "# spec[\"AGE\"] = [1,2]\n",
    "# variable_names[\"AGE\"] = [\"AGEdrive\", \"AGEnotdrive\"]\n",
    "# spec[\"INC\"] = [1,2]\n",
    "# variable_names[\"INC\"] = [\"INCdrive\", \"INCnotdrive\"]\n",
    "# spec[\"income\"] = range(1, 5)\n",
    "# variable_names[\"income\"] = [\"income_{}\".format(x)\n",
    "#                            for x in [\"gc\", \"gr\", \"ec\", \"er\"]]\n",
    "# spec[\"GEN\"] = [[1], [2]]\n",
    "# variable_names[\"GEN\"] = [\"GENdrive\", \"GENnotdrive\"]"
   ]
  },
  {
   "cell_type": "markdown",
   "metadata": {},
   "source": [
    "# 3. Set Model"
   ]
  },
  {
   "cell_type": "code",
   "execution_count": 270,
   "metadata": {},
   "outputs": [],
   "source": [
    "model = pl.create_choice_model(data = data,\n",
    "                    alt_id_col=\"ALT\",\n",
    "                    obs_id_col=\"Group\",\n",
    "                    choice_col=\"MODE\",\n",
    "                    specification=spec,\n",
    "                    model_type = \"MNL\",\n",
    "                    names = variable_names\n",
    ")"
   ]
  },
  {
   "cell_type": "markdown",
   "metadata": {},
   "source": [
    "# 4. Fit Model"
   ]
  },
  {
   "cell_type": "code",
   "execution_count": 273,
   "metadata": {},
   "outputs": [
    {
     "name": "stdout",
     "output_type": "stream",
     "text": [
      "Log-likelihood at zero: -31.8848\n",
      "Initial Log-likelihood: -31.8848\n",
      "Estimation Time for Point Estimation: 0.01 seconds.\n",
      "Final log-likelihood: -17.9161\n"
     ]
    }
   ],
   "source": [
    "# model.fit_mle(np.zeros(10))\n",
    "model.fit_mle(np.zeros(5))"
   ]
  },
  {
   "cell_type": "code",
   "execution_count": 276,
   "metadata": {
    "scrolled": true
   },
   "outputs": [
    {
     "data": {
      "text/html": [
       "<table class=\"simpletable\">\n",
       "<caption>Multinomial Logit Model Regression Results</caption>\n",
       "<tr>\n",
       "  <th>Dep. Variable:</th>          <td>MODE</td>           <th>  No. Observations:  </th>   <td>46</td>   \n",
       "</tr>\n",
       "<tr>\n",
       "  <th>Model:</th>         <td>Multinomial Logit Model</td> <th>  Df Residuals:      </th>   <td>41</td>   \n",
       "</tr>\n",
       "<tr>\n",
       "  <th>Method:</th>                  <td>MLE</td>           <th>  Df Model:          </th>    <td>5</td>   \n",
       "</tr>\n",
       "<tr>\n",
       "  <th>Date:</th>             <td>Wed, 12 Dec 2018</td>     <th>  Pseudo R-squ.:     </th>  <td>0.438</td> \n",
       "</tr>\n",
       "<tr>\n",
       "  <th>Time:</th>                 <td>21:35:13</td>         <th>  Pseudo R-bar-squ.: </th>  <td>0.281</td> \n",
       "</tr>\n",
       "<tr>\n",
       "  <th>AIC:</th>                   <td>45.832</td>          <th>  Log-Likelihood:    </th> <td>-17.916</td>\n",
       "</tr>\n",
       "<tr>\n",
       "  <th>BIC:</th>                   <td>54.975</td>          <th>  LL-Null:           </th> <td>-31.885</td>\n",
       "</tr>\n",
       "</table>\n",
       "<table class=\"simpletable\">\n",
       "<tr>\n",
       "           <td></td>             <th>coef</th>     <th>std err</th>      <th>z</th>      <th>P>|z|</th>  <th>[0.025</th>    <th>0.975]</th>  \n",
       "</tr>\n",
       "<tr>\n",
       "  <th>TTME for Drive</th>     <td>   -0.0954</td> <td>    0.052</td> <td>   -1.829</td> <td> 0.067</td> <td>   -0.198</td> <td>    0.007</td>\n",
       "</tr>\n",
       "<tr>\n",
       "  <th>TTME for Not Drive</th> <td>   -0.0685</td> <td>    0.054</td> <td>   -1.270</td> <td> 0.204</td> <td>   -0.174</td> <td>    0.037</td>\n",
       "</tr>\n",
       "<tr>\n",
       "  <th>FEEdrive</th>           <td>    0.8714</td> <td>    0.557</td> <td>    1.564</td> <td> 0.118</td> <td>   -0.221</td> <td>    1.964</td>\n",
       "</tr>\n",
       "<tr>\n",
       "  <th>COST for Drive</th>     <td>   -0.3670</td> <td>    0.260</td> <td>   -1.411</td> <td> 0.158</td> <td>   -0.877</td> <td>    0.143</td>\n",
       "</tr>\n",
       "<tr>\n",
       "  <th>COST for Not Drive</th> <td>   -0.5262</td> <td>    0.303</td> <td>   -1.737</td> <td> 0.082</td> <td>   -1.120</td> <td>    0.068</td>\n",
       "</tr>\n",
       "</table>"
      ],
      "text/plain": [
       "<class 'statsmodels.iolib.summary.Summary'>\n",
       "\"\"\"\n",
       "                     Multinomial Logit Model Regression Results                    \n",
       "===================================================================================\n",
       "Dep. Variable:                        MODE   No. Observations:                   46\n",
       "Model:             Multinomial Logit Model   Df Residuals:                       41\n",
       "Method:                                MLE   Df Model:                            5\n",
       "Date:                     Wed, 12 Dec 2018   Pseudo R-squ.:                   0.438\n",
       "Time:                             21:35:13   Pseudo R-bar-squ.:               0.281\n",
       "AIC:                                45.832   Log-Likelihood:                -17.916\n",
       "BIC:                                54.975   LL-Null:                       -31.885\n",
       "======================================================================================\n",
       "                         coef    std err          z      P>|z|      [0.025      0.975]\n",
       "--------------------------------------------------------------------------------------\n",
       "TTME for Drive        -0.0954      0.052     -1.829      0.067      -0.198       0.007\n",
       "TTME for Not Drive    -0.0685      0.054     -1.270      0.204      -0.174       0.037\n",
       "FEEdrive               0.8714      0.557      1.564      0.118      -0.221       1.964\n",
       "COST for Drive        -0.3670      0.260     -1.411      0.158      -0.877       0.143\n",
       "COST for Not Drive    -0.5262      0.303     -1.737      0.082      -1.120       0.068\n",
       "======================================================================================\n",
       "\"\"\""
      ]
     },
     "execution_count": 276,
     "metadata": {},
     "output_type": "execute_result"
    }
   ],
   "source": [
    "model.get_statsmodels_summary()"
   ]
  },
  {
   "cell_type": "code",
   "execution_count": 275,
   "metadata": {},
   "outputs": [
    {
     "ename": "SyntaxError",
     "evalue": "invalid syntax (<ipython-input-275-d8702d68dde2>, line 2)",
     "output_type": "error",
     "traceback": [
      "\u001b[0;36m  File \u001b[0;32m\"<ipython-input-275-d8702d68dde2>\"\u001b[0;36m, line \u001b[0;32m2\u001b[0m\n\u001b[0;31m    model.print_summaries()model.print_summaries()\u001b[0m\n\u001b[0m                               ^\u001b[0m\n\u001b[0;31mSyntaxError\u001b[0m\u001b[0;31m:\u001b[0m invalid syntax\n"
     ]
    }
   ],
   "source": [
    "model.fit_mle(np.zeros(8))\n",
    "model.print_summaries()model.print_summaries()"
   ]
  },
  {
   "cell_type": "code",
   "execution_count": null,
   "metadata": {},
   "outputs": [],
   "source": []
  }
 ],
 "metadata": {
  "kernelspec": {
   "display_name": "myEnv",
   "language": "python",
   "name": "myenv"
  },
  "language_info": {
   "codemirror_mode": {
    "name": "ipython",
    "version": 2
   },
   "file_extension": ".py",
   "mimetype": "text/x-python",
   "name": "python",
   "nbconvert_exporter": "python",
   "pygments_lexer": "ipython2",
   "version": "2.7.15"
  }
 },
 "nbformat": 4,
 "nbformat_minor": 2
}
